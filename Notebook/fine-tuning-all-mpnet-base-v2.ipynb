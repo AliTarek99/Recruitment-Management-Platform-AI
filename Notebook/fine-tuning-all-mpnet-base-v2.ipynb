{
 "cells": [
  {
   "cell_type": "code",
   "execution_count": 32,
   "metadata": {
    "_cell_guid": "b1076dfc-b9ad-4769-8c92-a6c4dae69d19",
    "_uuid": "8f2839f25d086af736a60e9eeb907d3b93b6e0e5",
    "execution": {
     "iopub.execute_input": "2025-04-14T11:17:07.782355Z",
     "iopub.status.busy": "2025-04-14T11:17:07.781834Z",
     "iopub.status.idle": "2025-04-14T11:17:07.786230Z",
     "shell.execute_reply": "2025-04-14T11:17:07.785599Z",
     "shell.execute_reply.started": "2025-04-14T11:17:07.782334Z"
    }
   },
   "outputs": [],
   "source": [
    "from sentence_transformers import SentenceTransformer, SentenceTransformerTrainer\n",
    "import pandas as pd\n",
    "from datasets import Dataset\n",
    "import re\n",
    "from sentence_transformers.losses import TripletLoss\n",
    "from sentence_transformers.training_args import SentenceTransformerTrainingArguments, BatchSamplers\n",
    "from sentence_transformers.evaluation import TripletEvaluator\n",
    "import tensorflow as tf\n",
    "import torch\n",
    "from sklearn.metrics.pairwise import cosine_similarity"
   ]
  },
  {
   "cell_type": "code",
   "execution_count": 74,
   "metadata": {
    "execution": {
     "iopub.execute_input": "2025-04-14T11:48:31.954061Z",
     "iopub.status.busy": "2025-04-14T11:48:31.953363Z",
     "iopub.status.idle": "2025-04-14T11:48:33.119194Z",
     "shell.execute_reply": "2025-04-14T11:48:33.118574Z",
     "shell.execute_reply.started": "2025-04-14T11:48:31.954035Z"
    }
   },
   "outputs": [],
   "source": [
    "model = SentenceTransformer('all-mpnet-base-v2')"
   ]
  },
  {
   "cell_type": "code",
   "execution_count": 78,
   "metadata": {
    "execution": {
     "iopub.execute_input": "2025-04-14T11:55:44.586352Z",
     "iopub.status.busy": "2025-04-14T11:55:44.585706Z",
     "iopub.status.idle": "2025-04-14T11:55:44.621484Z",
     "shell.execute_reply": "2025-04-14T11:55:44.620919Z",
     "shell.execute_reply.started": "2025-04-14T11:55:44.586326Z"
    }
   },
   "outputs": [
    {
     "data": {
      "application/vnd.jupyter.widget-view+json": {
       "model_id": "6768bcac53994f3aaf80b37eca3935ee",
       "version_major": 2,
       "version_minor": 0
      },
      "text/plain": [
       "Batches:   0%|          | 0/1 [00:00<?, ?it/s]"
      ]
     },
     "metadata": {},
     "output_type": "display_data"
    },
    {
     "name": "stdout",
     "output_type": "stream",
     "text": [
      "[0.77652353]\n"
     ]
    }
   ],
   "source": [
    "embedding = model.encode([\"Deep Learning\", \"Machine Learning\"])\n",
    "similarities = cosine_similarity([embedding[0]], [embedding[1]])[0]\n",
    "print(similarities)"
   ]
  },
  {
   "cell_type": "code",
   "execution_count": 35,
   "metadata": {
    "execution": {
     "iopub.execute_input": "2025-04-14T11:17:17.489004Z",
     "iopub.status.busy": "2025-04-14T11:17:17.488465Z",
     "iopub.status.idle": "2025-04-14T11:17:17.798032Z",
     "shell.execute_reply": "2025-04-14T11:17:17.797456Z",
     "shell.execute_reply.started": "2025-04-14T11:17:17.488976Z"
    }
   },
   "outputs": [],
   "source": [
    "df_original = pd.read_csv(\"/kaggle/input/rjdb-csv-format/dev.csv\")\n",
    "df_preprocessed = pd.read_csv(\"/kaggle/input/rjdb-csv-format/dev.csv\")\n",
    "df_preprocessed_test = pd.read_csv(\"/kaggle/input/rjdb-csv-format/test.csv\")\n",
    "df_original = df_original.iloc[:, 0:3]\n",
    "df_preprocessed = df_preprocessed.iloc[:, 0:3]\n",
    "df_preprocessed_test = df_preprocessed_test.iloc[:, 0:3]"
   ]
  },
  {
   "cell_type": "code",
   "execution_count": 36,
   "metadata": {
    "execution": {
     "iopub.execute_input": "2025-04-14T11:17:17.799402Z",
     "iopub.status.busy": "2025-04-14T11:17:17.799116Z",
     "iopub.status.idle": "2025-04-14T11:17:17.803568Z",
     "shell.execute_reply": "2025-04-14T11:17:17.802871Z",
     "shell.execute_reply.started": "2025-04-14T11:17:17.799372Z"
    }
   },
   "outputs": [
    {
     "name": "stdout",
     "output_type": "stream",
     "text": [
      "\n",
      "\n",
      "## Job Title\n",
      "SOLR Search Lead\n",
      "\n",
      "## Job Summary\n",
      "The appointed SOLR Search Lead will tackle complex information retrieval challenges, mentor team members and work in coordination with different units of the organization to deliver top-notch search solutions.\n",
      "\n",
      "## Required Skills\n",
      "Applicants should be proficient in using JUnit, an important unit testing tool for the runtime environment inspired by the Java programming language, to maintain process finesse and ensure optimal functionality of the implemented solutions.\n",
      "\n",
      "## Required Experience\n",
      "The desirable candidates should possess relevant practical job experience of 3 years as a SOLR Search Lead and a substantial service of multiplying effect to the extent of five years in capacity as a Systems Engineer (DevOps). Deep understanding of Junit is expected as it remains a crucial part of personnel selection process.\n",
      "\n",
      "## Responsibilities\n",
      "• Implementing effective strategies to maximize search engine utility.\n",
      "• Providing mentorship and guidance to a team of search professionals.\n",
      "• Collaborating with alternate setups within the business to develop and deliver inclusive search solutions.\n",
      "\n",
      "\n"
     ]
    }
   ],
   "source": [
    "print(df_preprocessed.iloc[0,0])"
   ]
  },
  {
   "cell_type": "code",
   "execution_count": 37,
   "metadata": {
    "execution": {
     "iopub.execute_input": "2025-04-14T11:17:19.478737Z",
     "iopub.status.busy": "2025-04-14T11:17:19.477816Z",
     "iopub.status.idle": "2025-04-14T11:17:19.486265Z",
     "shell.execute_reply": "2025-04-14T11:17:19.485684Z",
     "shell.execute_reply.started": "2025-04-14T11:17:19.478712Z"
    }
   },
   "outputs": [
    {
     "data": {
      "text/html": [
       "<div>\n",
       "<style scoped>\n",
       "    .dataframe tbody tr th:only-of-type {\n",
       "        vertical-align: middle;\n",
       "    }\n",
       "\n",
       "    .dataframe tbody tr th {\n",
       "        vertical-align: top;\n",
       "    }\n",
       "\n",
       "    .dataframe thead th {\n",
       "        text-align: right;\n",
       "    }\n",
       "</style>\n",
       "<table border=\"1\" class=\"dataframe\">\n",
       "  <thead>\n",
       "    <tr style=\"text-align: right;\">\n",
       "      <th></th>\n",
       "      <th>Job-Description</th>\n",
       "      <th>Resume-matched</th>\n",
       "      <th>Resume-unmatched</th>\n",
       "    </tr>\n",
       "  </thead>\n",
       "  <tbody>\n",
       "    <tr>\n",
       "      <th>0</th>\n",
       "      <td>\\r\\n\\r\\n## Job Title\\r\\nSOLR Search Lead\\r\\n\\r...</td>\n",
       "      <td>\\r\\n## Personal Information\\r\\nName: Mia O'Con...</td>\n",
       "      <td>\\r\\n\\r\\n## Personal Information\\r\\nName: Mia O...</td>\n",
       "    </tr>\n",
       "    <tr>\n",
       "      <th>1</th>\n",
       "      <td>\\r\\n\\r\\n## Job title\\r\\nSecurity and Fire Alar...</td>\n",
       "      <td>\\r\\n\\r\\n## Personal Information\\r\\nName: Watee...</td>\n",
       "      <td>\\r\\n\\r\\n## Personal Information\\r\\nName: Watee...</td>\n",
       "    </tr>\n",
       "    <tr>\n",
       "      <th>2</th>\n",
       "      <td>\\r\\n\\r\\n## Job Title\\r\\nSAP FICO Lead | Projec...</td>\n",
       "      <td>\\r\\n\\r\\n## Personal Information\\r\\nName: Carlo...</td>\n",
       "      <td>\\r\\n\\r\\n## Personal Information\\r\\nName: Carlo...</td>\n",
       "    </tr>\n",
       "    <tr>\n",
       "      <th>3</th>\n",
       "      <td>\\r\\n\\r\\n## Job title\\r\\nClient Engagement Mana...</td>\n",
       "      <td>\\r\\n\\r\\n## Personal Information\\r\\nName: Ecrin...</td>\n",
       "      <td>\\r\\n\\r\\n## Personal Information\\r\\nName: Ecrin...</td>\n",
       "    </tr>\n",
       "    <tr>\n",
       "      <th>4</th>\n",
       "      <td>\\r\\n\\r\\n## Job Title\\r\\n.NET Developer \\r\\n\\r\\...</td>\n",
       "      <td>\\r\\n\\r\\n## Personal Information\\r\\nName: Hosse...</td>\n",
       "      <td>\\r\\n\\r\\n## Personal Information\\r\\nName: Hosse...</td>\n",
       "    </tr>\n",
       "  </tbody>\n",
       "</table>\n",
       "</div>"
      ],
      "text/plain": [
       "                                     Job-Description  \\\n",
       "0  \\r\\n\\r\\n## Job Title\\r\\nSOLR Search Lead\\r\\n\\r...   \n",
       "1  \\r\\n\\r\\n## Job title\\r\\nSecurity and Fire Alar...   \n",
       "2  \\r\\n\\r\\n## Job Title\\r\\nSAP FICO Lead | Projec...   \n",
       "3  \\r\\n\\r\\n## Job title\\r\\nClient Engagement Mana...   \n",
       "4  \\r\\n\\r\\n## Job Title\\r\\n.NET Developer \\r\\n\\r\\...   \n",
       "\n",
       "                                      Resume-matched  \\\n",
       "0  \\r\\n## Personal Information\\r\\nName: Mia O'Con...   \n",
       "1  \\r\\n\\r\\n## Personal Information\\r\\nName: Watee...   \n",
       "2  \\r\\n\\r\\n## Personal Information\\r\\nName: Carlo...   \n",
       "3  \\r\\n\\r\\n## Personal Information\\r\\nName: Ecrin...   \n",
       "4  \\r\\n\\r\\n## Personal Information\\r\\nName: Hosse...   \n",
       "\n",
       "                                    Resume-unmatched  \n",
       "0  \\r\\n\\r\\n## Personal Information\\r\\nName: Mia O...  \n",
       "1  \\r\\n\\r\\n## Personal Information\\r\\nName: Watee...  \n",
       "2  \\r\\n\\r\\n## Personal Information\\r\\nName: Carlo...  \n",
       "3  \\r\\n\\r\\n## Personal Information\\r\\nName: Ecrin...  \n",
       "4  \\r\\n\\r\\n## Personal Information\\r\\nName: Hosse...  "
      ]
     },
     "execution_count": 37,
     "metadata": {},
     "output_type": "execute_result"
    }
   ],
   "source": [
    "df_preprocessed.head()"
   ]
  },
  {
   "cell_type": "code",
   "execution_count": 38,
   "metadata": {
    "execution": {
     "iopub.execute_input": "2025-04-14T11:17:21.040921Z",
     "iopub.status.busy": "2025-04-14T11:17:21.040356Z",
     "iopub.status.idle": "2025-04-14T11:17:21.044789Z",
     "shell.execute_reply": "2025-04-14T11:17:21.044060Z",
     "shell.execute_reply.started": "2025-04-14T11:17:21.040900Z"
    }
   },
   "outputs": [],
   "source": [
    "def clean_text(text):\n",
    "    text = re.sub(r'#*', '', text)\n",
    "    text = re.sub(r'\\n+', ' ', text)\n",
    "    text = re.sub(r'\\s+', ' ', text).strip()\n",
    "    return text"
   ]
  },
  {
   "cell_type": "code",
   "execution_count": 39,
   "metadata": {
    "execution": {
     "iopub.execute_input": "2025-04-14T11:17:21.273773Z",
     "iopub.status.busy": "2025-04-14T11:17:21.273325Z",
     "iopub.status.idle": "2025-04-14T11:17:23.539445Z",
     "shell.execute_reply": "2025-04-14T11:17:23.538894Z",
     "shell.execute_reply.started": "2025-04-14T11:17:21.273755Z"
    }
   },
   "outputs": [],
   "source": [
    "df_preprocessed[\"Job-Description\"] = df_preprocessed[\"Job-Description\"].apply(clean_text)\n",
    "df_preprocessed[\"Resume-matched\"] = df_preprocessed[\"Resume-matched\"].apply(clean_text)\n",
    "df_preprocessed[\"Resume-unmatched\"] = df_preprocessed[\"Resume-unmatched\"].apply(clean_text)\n",
    "\n",
    "df_preprocessed_test[\"Job-Description\"] = df_preprocessed_test[\"Job-Description\"].apply(clean_text)\n",
    "df_preprocessed_test[\"Resume-matched\"] = df_preprocessed_test[\"Resume-matched\"].apply(clean_text)\n",
    "df_preprocessed_test[\"Resume-unmatched\"] = df_preprocessed_test[\"Resume-unmatched\"].apply(clean_text)"
   ]
  },
  {
   "cell_type": "code",
   "execution_count": 40,
   "metadata": {
    "execution": {
     "iopub.execute_input": "2025-04-14T11:17:23.540646Z",
     "iopub.status.busy": "2025-04-14T11:17:23.540392Z",
     "iopub.status.idle": "2025-04-14T11:17:23.547955Z",
     "shell.execute_reply": "2025-04-14T11:17:23.547406Z",
     "shell.execute_reply.started": "2025-04-14T11:17:23.540620Z"
    }
   },
   "outputs": [
    {
     "data": {
      "text/html": [
       "<div>\n",
       "<style scoped>\n",
       "    .dataframe tbody tr th:only-of-type {\n",
       "        vertical-align: middle;\n",
       "    }\n",
       "\n",
       "    .dataframe tbody tr th {\n",
       "        vertical-align: top;\n",
       "    }\n",
       "\n",
       "    .dataframe thead th {\n",
       "        text-align: right;\n",
       "    }\n",
       "</style>\n",
       "<table border=\"1\" class=\"dataframe\">\n",
       "  <thead>\n",
       "    <tr style=\"text-align: right;\">\n",
       "      <th></th>\n",
       "      <th>Job-Description</th>\n",
       "      <th>Resume-matched</th>\n",
       "      <th>Resume-unmatched</th>\n",
       "    </tr>\n",
       "  </thead>\n",
       "  <tbody>\n",
       "    <tr>\n",
       "      <th>0</th>\n",
       "      <td>Job Title SOLR Search Lead Job Summary The app...</td>\n",
       "      <td>Personal Information Name: Mia O'Connor Email:...</td>\n",
       "      <td>Personal Information Name: Mia O'Connor Email:...</td>\n",
       "    </tr>\n",
       "    <tr>\n",
       "      <th>1</th>\n",
       "      <td>Job title Security and Fire Alarm Systems Inst...</td>\n",
       "      <td>Personal Information Name: Wateen Smith Email:...</td>\n",
       "      <td>Personal Information Name: Wateen Smith Email:...</td>\n",
       "    </tr>\n",
       "    <tr>\n",
       "      <th>2</th>\n",
       "      <td>Job Title SAP FICO Lead | Project Manager Job ...</td>\n",
       "      <td>Personal Information Name: Carlos Rodriguez Em...</td>\n",
       "      <td>Personal Information Name: Carlos Rodriguez Em...</td>\n",
       "    </tr>\n",
       "    <tr>\n",
       "      <th>3</th>\n",
       "      <td>Job title Client Engagement Manager Job Summar...</td>\n",
       "      <td>Personal Information Name: Ecrin Boomfield Ema...</td>\n",
       "      <td>Personal Information Name: Ecrin Boomfield Ema...</td>\n",
       "    </tr>\n",
       "    <tr>\n",
       "      <th>4</th>\n",
       "      <td>Job Title .NET Developer Job Summary We are in...</td>\n",
       "      <td>Personal Information Name: Hossein Farsi Email...</td>\n",
       "      <td>Personal Information Name: Hossein Farsi Email...</td>\n",
       "    </tr>\n",
       "  </tbody>\n",
       "</table>\n",
       "</div>"
      ],
      "text/plain": [
       "                                     Job-Description  \\\n",
       "0  Job Title SOLR Search Lead Job Summary The app...   \n",
       "1  Job title Security and Fire Alarm Systems Inst...   \n",
       "2  Job Title SAP FICO Lead | Project Manager Job ...   \n",
       "3  Job title Client Engagement Manager Job Summar...   \n",
       "4  Job Title .NET Developer Job Summary We are in...   \n",
       "\n",
       "                                      Resume-matched  \\\n",
       "0  Personal Information Name: Mia O'Connor Email:...   \n",
       "1  Personal Information Name: Wateen Smith Email:...   \n",
       "2  Personal Information Name: Carlos Rodriguez Em...   \n",
       "3  Personal Information Name: Ecrin Boomfield Ema...   \n",
       "4  Personal Information Name: Hossein Farsi Email...   \n",
       "\n",
       "                                    Resume-unmatched  \n",
       "0  Personal Information Name: Mia O'Connor Email:...  \n",
       "1  Personal Information Name: Wateen Smith Email:...  \n",
       "2  Personal Information Name: Carlos Rodriguez Em...  \n",
       "3  Personal Information Name: Ecrin Boomfield Ema...  \n",
       "4  Personal Information Name: Hossein Farsi Email...  "
      ]
     },
     "execution_count": 40,
     "metadata": {},
     "output_type": "execute_result"
    }
   ],
   "source": [
    "df_preprocessed.head()"
   ]
  },
  {
   "cell_type": "code",
   "execution_count": 41,
   "metadata": {
    "execution": {
     "iopub.execute_input": "2025-04-14T11:17:23.548794Z",
     "iopub.status.busy": "2025-04-14T11:17:23.548562Z",
     "iopub.status.idle": "2025-04-14T11:17:23.564680Z",
     "shell.execute_reply": "2025-04-14T11:17:23.564162Z",
     "shell.execute_reply.started": "2025-04-14T11:17:23.548778Z"
    }
   },
   "outputs": [
    {
     "data": {
      "text/plain": [
       "'\\r\\n\\r\\n## Job title\\r\\nSoftware Engineer III\\r\\n\\r\\n## Job Summary\\r\\nIn this key role as a Software Engineer III, you will be responsible for developing embedded software and systems within IoT environment, ensuring compatibility with hardware design and interfacing with real-time video streaming and documentary systems. Using your essential skills in business intelligence, project management and analysis, you will drive complex software projects, aligning objectives with company vision and strategies.\\r\\n\\r\\n## Required Skills\\r\\n- Strong abilities in analysis and problem solving in complex software systems.\\r\\n- Business intelligence proficiency to decode project metrics into comprehendible strategies.\\r\\n- Experience in embedded systems coding.\\r\\n- Understanding and knowledge of hardware systems.\\r\\n- Capability to supervise and manage project teams and essentials.\\r\\n- Proven experience in project development and management.\\r\\n- Familiarity with video technology, encoding and streaming.\\r\\n\\r\\n## Required Experience\\r\\n- At least 5 years of relevant experience as a Software Engineer III is essential.\\r\\n- Minimum of 3 years in File Directory INSTALLation oriented role, e.g., Windows Systems Engineer III - Active Directory.\\r\\n- 3 years of experience as a Cyber Software Engineer designing and maintaining Firewalls is ideal.\\r\\n- Minimum two years related experience in data extraction and Java programing as Data Engineer - ETL - Data Warehousing deployment.\\r\\n- Additional five years as a Big Data Applications Product Owner or similar required.\\r\\n\\r\\n## Responsibilities\\r\\n- Developing, coding, and debugging real-time embedded software systems by using state-of-art hardware and development tools.\\r\\n- Meeting milestones and objectives as described by the project managers.\\r\\n- Capacity building of team resources to ensure deliverance of paramount output.\\r\\n- Supervising and monitoring progress status of computer hardware and video systems.\\r\\n- Ensuring seamless integration of business intelligence within each project lifecycle.\\r\\n\\r\\n'"
      ]
     },
     "execution_count": 41,
     "metadata": {},
     "output_type": "execute_result"
    }
   ],
   "source": [
    "df_original.iloc[200,0]"
   ]
  },
  {
   "cell_type": "code",
   "execution_count": 42,
   "metadata": {
    "execution": {
     "iopub.execute_input": "2025-04-14T11:17:23.566120Z",
     "iopub.status.busy": "2025-04-14T11:17:23.565909Z",
     "iopub.status.idle": "2025-04-14T11:17:23.581452Z",
     "shell.execute_reply": "2025-04-14T11:17:23.580712Z",
     "shell.execute_reply.started": "2025-04-14T11:17:23.566106Z"
    }
   },
   "outputs": [
    {
     "data": {
      "text/plain": [
       "'Job title Software Engineer III Job Summary In this key role as a Software Engineer III, you will be responsible for developing embedded software and systems within IoT environment, ensuring compatibility with hardware design and interfacing with real-time video streaming and documentary systems. Using your essential skills in business intelligence, project management and analysis, you will drive complex software projects, aligning objectives with company vision and strategies. Required Skills - Strong abilities in analysis and problem solving in complex software systems. - Business intelligence proficiency to decode project metrics into comprehendible strategies. - Experience in embedded systems coding. - Understanding and knowledge of hardware systems. - Capability to supervise and manage project teams and essentials. - Proven experience in project development and management. - Familiarity with video technology, encoding and streaming. Required Experience - At least 5 years of relevant experience as a Software Engineer III is essential. - Minimum of 3 years in File Directory INSTALLation oriented role, e.g., Windows Systems Engineer III - Active Directory. - 3 years of experience as a Cyber Software Engineer designing and maintaining Firewalls is ideal. - Minimum two years related experience in data extraction and Java programing as Data Engineer - ETL - Data Warehousing deployment. - Additional five years as a Big Data Applications Product Owner or similar required. Responsibilities - Developing, coding, and debugging real-time embedded software systems by using state-of-art hardware and development tools. - Meeting milestones and objectives as described by the project managers. - Capacity building of team resources to ensure deliverance of paramount output. - Supervising and monitoring progress status of computer hardware and video systems. - Ensuring seamless integration of business intelligence within each project lifecycle.'"
      ]
     },
     "execution_count": 42,
     "metadata": {},
     "output_type": "execute_result"
    }
   ],
   "source": [
    "df_preprocessed.iloc[200,0]"
   ]
  },
  {
   "cell_type": "code",
   "execution_count": 43,
   "metadata": {
    "execution": {
     "iopub.execute_input": "2025-04-14T11:17:26.088462Z",
     "iopub.status.busy": "2025-04-14T11:17:26.088142Z",
     "iopub.status.idle": "2025-04-14T11:17:26.465199Z",
     "shell.execute_reply": "2025-04-14T11:17:26.464655Z",
     "shell.execute_reply.started": "2025-04-14T11:17:26.088444Z"
    }
   },
   "outputs": [],
   "source": [
    "anchors = [i.iloc[0] for n,i in df_preprocessed.iterrows()]\n",
    "positives = [i.iloc[1] for n,i in df_preprocessed.iterrows()]\n",
    "negatives = [i.iloc[2] for n,i in df_preprocessed.iterrows()]\n",
    "\n",
    "anchors_test = [i.iloc[0] for n,i in df_preprocessed_test.iterrows()]\n",
    "positives_test = [i.iloc[1] for n,i in df_preprocessed_test.iterrows()]\n",
    "negatives_test = [i.iloc[2] for n,i in df_preprocessed_test.iterrows()]"
   ]
  },
  {
   "cell_type": "code",
   "execution_count": 44,
   "metadata": {
    "execution": {
     "iopub.execute_input": "2025-04-14T11:17:26.466628Z",
     "iopub.status.busy": "2025-04-14T11:17:26.466375Z",
     "iopub.status.idle": "2025-04-14T11:17:26.557353Z",
     "shell.execute_reply": "2025-04-14T11:17:26.556821Z",
     "shell.execute_reply.started": "2025-04-14T11:17:26.466605Z"
    }
   },
   "outputs": [],
   "source": [
    "train_dataset = Dataset.from_dict({\n",
    "    \"anchor\": anchors,\n",
    "    \"positive\": positives,\n",
    "    \"negative\": negatives\n",
    "})\n",
    "\n",
    "dataset_test = Dataset.from_dict({\n",
    "    \"anchor\": anchors_test,\n",
    "    \"positive\": positives_test,\n",
    "    \"negative\": negatives_test\n",
    "})\n",
    "\n",
    "dataset_split = dataset_test.train_test_split(test_size=0.4, seed=42, shuffle = True)\n",
    "\n",
    "eval_dataset = dataset_split['train']\n",
    "test_dataset = dataset_split['test']"
   ]
  },
  {
   "cell_type": "code",
   "execution_count": 63,
   "metadata": {
    "execution": {
     "iopub.execute_input": "2025-04-14T11:34:59.904197Z",
     "iopub.status.busy": "2025-04-14T11:34:59.903655Z",
     "iopub.status.idle": "2025-04-14T11:34:59.907709Z",
     "shell.execute_reply": "2025-04-14T11:34:59.906911Z",
     "shell.execute_reply.started": "2025-04-14T11:34:59.904176Z"
    }
   },
   "outputs": [],
   "source": [
    "loss = TripletLoss(model)"
   ]
  },
  {
   "cell_type": "code",
   "execution_count": 64,
   "metadata": {
    "execution": {
     "iopub.execute_input": "2025-04-14T11:35:14.939369Z",
     "iopub.status.busy": "2025-04-14T11:35:14.938920Z",
     "iopub.status.idle": "2025-04-14T11:35:14.976055Z",
     "shell.execute_reply": "2025-04-14T11:35:14.975403Z",
     "shell.execute_reply.started": "2025-04-14T11:35:14.939337Z"
    }
   },
   "outputs": [],
   "source": [
    "args = SentenceTransformerTrainingArguments(\n",
    "    output_dir=\"/kaggle/working/\",\n",
    "    \n",
    "    # Training\n",
    "    num_train_epochs=1,  # Recommended: 2-3 epochs for 2.5k examples\n",
    "    per_device_train_batch_size=8,\n",
    "    per_device_eval_batch_size=8,\n",
    "    warmup_ratio=0.1,\n",
    "    \n",
    "    # Sampling strategy for better negatives\n",
    "    batch_sampler=BatchSamplers.NO_DUPLICATES,\n",
    "    # Evaluation / Saving\n",
    "    eval_strategy=\"steps\",\n",
    "    eval_steps=100,\n",
    "    save_strategy=\"steps\",\n",
    "    save_steps=100,\n",
    "    save_total_limit=2,\n",
    "\n",
    "    # Logging\n",
    "    logging_steps=10,  # More frequent logs can help for short training\n",
    "    report_to=[],\n",
    "    run_name=\"mpnet-base-triplet-finetune\"\n",
    ")"
   ]
  },
  {
   "cell_type": "code",
   "execution_count": 48,
   "metadata": {
    "execution": {
     "iopub.execute_input": "2025-04-14T11:17:40.011486Z",
     "iopub.status.busy": "2025-04-14T11:17:40.011037Z",
     "iopub.status.idle": "2025-04-14T11:18:00.061701Z",
     "shell.execute_reply": "2025-04-14T11:18:00.060908Z",
     "shell.execute_reply.started": "2025-04-14T11:17:40.011463Z"
    }
   },
   "outputs": [
    {
     "data": {
      "text/plain": [
       "{'Evaluation mpnet-v2_cosine_accuracy': 0.7266666889190674}"
      ]
     },
     "execution_count": 48,
     "metadata": {},
     "output_type": "execute_result"
    }
   ],
   "source": [
    "triplet_evaluator = TripletEvaluator(\n",
    "    anchors=eval_dataset[\"anchor\"],\n",
    "    positives=eval_dataset[\"positive\"],\n",
    "    negatives=eval_dataset[\"negative\"],\n",
    "    name=\"Evaluation mpnet-v2\",\n",
    ")\n",
    "triplet_evaluator(model)"
   ]
  },
  {
   "cell_type": "code",
   "execution_count": 49,
   "metadata": {
    "execution": {
     "iopub.execute_input": "2025-04-14T11:18:00.063160Z",
     "iopub.status.busy": "2025-04-14T11:18:00.062877Z",
     "iopub.status.idle": "2025-04-14T11:18:13.546752Z",
     "shell.execute_reply": "2025-04-14T11:18:13.546036Z",
     "shell.execute_reply.started": "2025-04-14T11:18:00.063136Z"
    }
   },
   "outputs": [
    {
     "data": {
      "text/plain": [
       "{'Evaluation mpnet-v2_cosine_accuracy': 0.7475000023841858}"
      ]
     },
     "execution_count": 49,
     "metadata": {},
     "output_type": "execute_result"
    }
   ],
   "source": [
    "test_evaluator = TripletEvaluator(\n",
    "    anchors=test_dataset[\"anchor\"],\n",
    "    positives=test_dataset[\"positive\"],\n",
    "    negatives=test_dataset[\"negative\"],\n",
    "    name=\"Evaluation mpnet-v2\",\n",
    ")\n",
    "test_evaluator(model)"
   ]
  },
  {
   "cell_type": "code",
   "execution_count": 65,
   "metadata": {
    "execution": {
     "iopub.execute_input": "2025-04-14T11:35:48.409177Z",
     "iopub.status.busy": "2025-04-14T11:35:48.408497Z",
     "iopub.status.idle": "2025-04-14T11:35:48.414046Z",
     "shell.execute_reply": "2025-04-14T11:35:48.413213Z",
     "shell.execute_reply.started": "2025-04-14T11:35:48.409154Z"
    }
   },
   "outputs": [],
   "source": [
    "# Access the underlying transformer model\n",
    "transformer = model._first_module().auto_model\n",
    "\n",
    "# Freeze all layers\n",
    "for param in transformer.parameters():\n",
    "    param.requires_grad = False\n",
    "\n",
    "# Unfreeze last N transformer layers (e.g., last 2)\n",
    "unfreeze_layers = 1\n",
    "for i in range(1, unfreeze_layers + 1):\n",
    "    for param in transformer.encoder.layer[-i].parameters():\n",
    "        param.requires_grad = True\n"
   ]
  },
  {
   "cell_type": "code",
   "execution_count": 66,
   "metadata": {
    "execution": {
     "iopub.execute_input": "2025-04-14T11:38:48.579645Z",
     "iopub.status.busy": "2025-04-14T11:38:48.579367Z",
     "iopub.status.idle": "2025-04-14T11:38:48.585486Z",
     "shell.execute_reply": "2025-04-14T11:38:48.584722Z",
     "shell.execute_reply.started": "2025-04-14T11:38:48.579625Z"
    }
   },
   "outputs": [
    {
     "name": "stdout",
     "output_type": "stream",
     "text": [
      "\n",
      "Transformer has 12 encoder layers.\n",
      "Layer 0: ❄️ Frozen\n",
      "Layer 1: ❄️ Frozen\n",
      "Layer 2: ❄️ Frozen\n",
      "Layer 3: ❄️ Frozen\n",
      "Layer 4: ❄️ Frozen\n",
      "Layer 5: ❄️ Frozen\n",
      "Layer 6: ❄️ Frozen\n",
      "Layer 7: ❄️ Frozen\n",
      "Layer 8: ❄️ Frozen\n",
      "Layer 9: ❄️ Frozen\n",
      "Layer 10: ❄️ Frozen\n",
      "Layer 11: 🔥 Trainable\n"
     ]
    }
   ],
   "source": [
    "# Access the base transformer model\n",
    "transformer = model._first_module().auto_model\n",
    "\n",
    "# Check number of encoder layers\n",
    "print(f\"\\nTransformer has {len(transformer.encoder.layer)} encoder layers.\")\n",
    "\n",
    "# Print which layers are frozen or not\n",
    "for i, layer in enumerate(transformer.encoder.layer):\n",
    "    status = all(not p.requires_grad for p in layer.parameters())\n",
    "    print(f\"Layer {i}: {'❄️ Frozen' if status else '🔥 Trainable'}\")\n"
   ]
  },
  {
   "cell_type": "code",
   "execution_count": 67,
   "metadata": {
    "execution": {
     "iopub.execute_input": "2025-04-14T11:39:56.997624Z",
     "iopub.status.busy": "2025-04-14T11:39:56.996843Z",
     "iopub.status.idle": "2025-04-14T11:39:57.003166Z",
     "shell.execute_reply": "2025-04-14T11:39:57.002331Z",
     "shell.execute_reply.started": "2025-04-14T11:39:56.997597Z"
    }
   },
   "outputs": [],
   "source": [
    "def count_parameters(model):\n",
    "    total = sum(p.numel() for p in model.parameters())\n",
    "    trainable = sum(p.numel() for p in model.parameters() if p.requires_grad)\n",
    "    print(f\"Total parameters: {total:,}\")\n",
    "    print(f\"Trainable parameters: {trainable:,}\")\n",
    "    print(f\"Frozen parameters: {total - trainable:,}\")\n"
   ]
  },
  {
   "cell_type": "code",
   "execution_count": 68,
   "metadata": {
    "execution": {
     "iopub.execute_input": "2025-04-14T11:39:58.090023Z",
     "iopub.status.busy": "2025-04-14T11:39:58.089499Z",
     "iopub.status.idle": "2025-04-14T11:39:58.094680Z",
     "shell.execute_reply": "2025-04-14T11:39:58.093970Z",
     "shell.execute_reply.started": "2025-04-14T11:39:58.089999Z"
    }
   },
   "outputs": [
    {
     "name": "stdout",
     "output_type": "stream",
     "text": [
      "Total parameters: 109,486,464\n",
      "Trainable parameters: 7,087,872\n",
      "Frozen parameters: 102,398,592\n"
     ]
    }
   ],
   "source": [
    "count_parameters(model)"
   ]
  },
  {
   "cell_type": "code",
   "execution_count": 69,
   "metadata": {
    "execution": {
     "iopub.execute_input": "2025-04-14T11:41:42.654203Z",
     "iopub.status.busy": "2025-04-14T11:41:42.653679Z",
     "iopub.status.idle": "2025-04-14T11:44:19.848311Z",
     "shell.execute_reply": "2025-04-14T11:44:19.847605Z",
     "shell.execute_reply.started": "2025-04-14T11:41:42.654183Z"
    }
   },
   "outputs": [
    {
     "data": {
      "application/vnd.jupyter.widget-view+json": {
       "model_id": "",
       "version_major": 2,
       "version_minor": 0
      },
      "text/plain": [
       "Computing widget examples:   0%|          | 0/1 [00:00<?, ?example/s]"
      ]
     },
     "metadata": {},
     "output_type": "display_data"
    },
    {
     "data": {
      "text/html": [
       "\n",
       "    <div>\n",
       "      \n",
       "      <progress value='154' max='154' style='width:300px; height:20px; vertical-align: middle;'></progress>\n",
       "      [154/154 02:33, Epoch 1/1]\n",
       "    </div>\n",
       "    <table border=\"1\" class=\"dataframe\">\n",
       "  <thead>\n",
       " <tr style=\"text-align: left;\">\n",
       "      <th>Step</th>\n",
       "      <th>Training Loss</th>\n",
       "      <th>Validation Loss</th>\n",
       "      <th>Evaluation mpnet-v2 Cosine Accuracy</th>\n",
       "    </tr>\n",
       "  </thead>\n",
       "  <tbody>\n",
       "    <tr>\n",
       "      <td>100</td>\n",
       "      <td>4.899800</td>\n",
       "      <td>4.891697</td>\n",
       "      <td>0.800000</td>\n",
       "    </tr>\n",
       "  </tbody>\n",
       "</table><p>"
      ],
      "text/plain": [
       "<IPython.core.display.HTML object>"
      ]
     },
     "metadata": {},
     "output_type": "display_data"
    },
    {
     "data": {
      "text/plain": [
       "TrainOutput(global_step=154, training_loss=4.901254554847618, metrics={'train_runtime': 154.8242, 'train_samples_per_second': 15.85, 'train_steps_per_second': 0.995, 'total_flos': 0.0, 'train_loss': 4.901254554847618, 'epoch': 1.0})"
      ]
     },
     "execution_count": 69,
     "metadata": {},
     "output_type": "execute_result"
    }
   ],
   "source": [
    "trainer = SentenceTransformerTrainer(\n",
    "    model=model,\n",
    "    args=args,\n",
    "    train_dataset=train_dataset,\n",
    "    eval_dataset=eval_dataset,\n",
    "    loss=loss,\n",
    "    evaluator=triplet_evaluator,\n",
    ")\n",
    "trainer.train()"
   ]
  },
  {
   "cell_type": "code",
   "execution_count": 70,
   "metadata": {
    "execution": {
     "iopub.execute_input": "2025-04-14T11:44:32.738474Z",
     "iopub.status.busy": "2025-04-14T11:44:32.737747Z",
     "iopub.status.idle": "2025-04-14T11:44:47.259468Z",
     "shell.execute_reply": "2025-04-14T11:44:47.258627Z",
     "shell.execute_reply.started": "2025-04-14T11:44:32.738448Z"
    }
   },
   "outputs": [
    {
     "data": {
      "text/plain": [
       "{'Evaluation mpnet-v2_cosine_accuracy': 0.8100000023841858}"
      ]
     },
     "execution_count": 70,
     "metadata": {},
     "output_type": "execute_result"
    }
   ],
   "source": [
    "test_evaluator = TripletEvaluator(\n",
    "    anchors=test_dataset[\"anchor\"],\n",
    "    positives=test_dataset[\"positive\"],\n",
    "    negatives=test_dataset[\"negative\"],\n",
    "    name=\"Evaluation mpnet-v2\",\n",
    ")\n",
    "test_evaluator(model)"
   ]
  },
  {
   "cell_type": "code",
   "execution_count": 71,
   "metadata": {
    "execution": {
     "iopub.execute_input": "2025-04-14T11:45:01.749822Z",
     "iopub.status.busy": "2025-04-14T11:45:01.749363Z",
     "iopub.status.idle": "2025-04-14T11:45:03.303817Z",
     "shell.execute_reply": "2025-04-14T11:45:03.303089Z",
     "shell.execute_reply.started": "2025-04-14T11:45:01.749800Z"
    }
   },
   "outputs": [],
   "source": [
    "trainer.save_model(\"/kaggle/working/fine_tuned_mpnet\")"
   ]
  },
  {
   "cell_type": "code",
   "execution_count": 72,
   "metadata": {
    "execution": {
     "iopub.execute_input": "2025-04-14T11:45:14.442609Z",
     "iopub.status.busy": "2025-04-14T11:45:14.441971Z",
     "iopub.status.idle": "2025-04-14T11:45:36.765489Z",
     "shell.execute_reply": "2025-04-14T11:45:36.764887Z",
     "shell.execute_reply.started": "2025-04-14T11:45:14.442590Z"
    }
   },
   "outputs": [
    {
     "data": {
      "text/plain": [
       "'/kaggle/working/fine_tuned_mpnet 4.zip'"
      ]
     },
     "execution_count": 72,
     "metadata": {},
     "output_type": "execute_result"
    }
   ],
   "source": [
    "import shutil\n",
    "shutil.make_archive(\"/kaggle/working/fine_tuned_mpnet 4\", 'zip', \"/kaggle/working/fine_tuned_mpnet\")"
   ]
  }
 ],
 "metadata": {
  "kaggle": {
   "accelerator": "nvidiaTeslaT4",
   "dataSources": [
    {
     "datasetId": 7110596,
     "sourceId": 11360966,
     "sourceType": "datasetVersion"
    },
    {
     "datasetId": 7110777,
     "sourceId": 11361225,
     "sourceType": "datasetVersion"
    },
    {
     "datasetId": 7130276,
     "sourceId": 11386711,
     "sourceType": "datasetVersion"
    }
   ],
   "dockerImageVersionId": 31012,
   "isGpuEnabled": true,
   "isInternetEnabled": true,
   "language": "python",
   "sourceType": "notebook"
  },
  "kernelspec": {
   "display_name": "Python 3 (ipykernel)",
   "language": "python",
   "name": "python3"
  },
  "language_info": {
   "codemirror_mode": {
    "name": "ipython",
    "version": 3
   },
   "file_extension": ".py",
   "mimetype": "text/x-python",
   "name": "python",
   "nbconvert_exporter": "python",
   "pygments_lexer": "ipython3",
   "version": "3.12.3"
  }
 },
 "nbformat": 4,
 "nbformat_minor": 4
}
