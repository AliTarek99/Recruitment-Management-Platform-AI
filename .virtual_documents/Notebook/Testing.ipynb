import ollama
import pdfplumber
import numpy as np
from datetime import datetime
from groq import Groq
import os
import re
import json
import time
from tqdm import tqdm
from sklearn.metrics.pairwise import cosine_similarity
from sentence_transformers import SentenceTransformer


def extract_text_from_pdf(pdf_path):
    with pdfplumber.open(pdf_path) as pdf:
        text = ""
        for page in pdf.pages:
            text += page.extract_text() + "\n"
    return text

pdf_text = extract_text_from_pdf("F:\\GPResources\\New CVs\\Ali_Tarek.pdf")
print(pdf_text)


model = "deepseek-r1:8b"
prompt = '''You are an AI assistant specialized in extracting structured information from resumes. Given the following resume text, extract key details in exactly this JSON format:

---
{
  "contactInformation": {
    "name": "Full Name",
    "phone": "Phone Number",
    "email": "Email Address",
    "location": "City, Country"
  },
  "education": [
    {
      "degree": "Degree Name",
      "university": "University Name",
      "start Year": "Start Year"
      "End Year": "End Year"
      "grade": "provided grade"
    }
  ],
  "workExperience": [
    {
      "title": "Job Title",
      "company": "Company Name",
      "start date": "Month/Year"
      "end date": "Month/Year"
      "end date"
    }
  ],
  "skills": [
    "Skill 1",
    "Skill 2",
    "Skill 3"
  ],
  "languages": [
    "Language 1",
    "Language 2"
  ]
}
---

Instructions:
1. Maintain the exact JSON structure with correct nesting, this is a top priority.
2. Extract all available information while preserving accuracy.
3. Use standardized formats for dates (`Month Year - Month Year`) and location (`City, Country`).
4. Ensure all extracted fields are clear and concise.
5. In the "languages" section, write only the language name.
6. In the "skills" section, write individual skills separated by commas.

Now, extract the information from this resume:

---\n''' + pdf_text + '''\n ---'''
start = datetime.now()
response = ollama.chat(model = model, messages= [{'role':'user', 'content': prompt}],keep_alive="20m")
end = datetime.now()

ollamaResponse = response['message']['content']

print(ollamaResponse)
print(f"Execution time: {end - start}")


model = "llama3.2"
prompt = '''You are an AI assistant specialized in extracting structured information from resumes. Given the following resume text, extract key details in exactly this JSON format. Here's an example:

---
{
  "contactInformation": {
    "name": "Ahmed Abdelghani",
    "phone": "+201014173523",
    "email": "ahmedabdelghani404@gmail.com",
    "location": "Cairo, Egypt"
  },
  "education": [
    {
      "degree": "Bachelor of Computer Science",
      "university": "Suez University, Faculty of Computers and Information",
      "start Year": "2018"
      "End Year": "2022"
      "grade": "3.01"
    }
  ],
  "workExperience": [
    {
      "title": "Financial Analyst",
      "company": "AIESEC",
      "start date": "August/2022"
      "end date": "Present"
    }
  ],
  "skills": [
    "Python", "SQL", "NoSQL", "JavaScript","Data Warehousing"
  ],
  "languages": [
    "Arabic",
    "English"
  ]
}
---

Instructions:
1. Maintain the exact JSON structure with correct nesting, this is a top priority.
2. Extract all available information while preserving accuracy.
3. Use standardized formats for dates (`Month Year - Month Year`) and location (`City, Country`).
4. Ensure all extracted fields are clear and concise.
5. Write only the language name in the "languages" section.
6. Write individual skills separated by commas in the "skills" section.
7. The output should be the JSON code only and nothing else.

Now, extract the information from this resume:

---\n''' + pdf_text + '''\n ---'''
start = datetime.now()
response = ollama.chat(model = model, messages= [{'role':'user', 'content': prompt}],keep_alive="20m")
end = datetime.now()

ollamaResponse = response['message']['content']

print(ollamaResponse)
print(f"Execution time: {end - start}")


model = "deepseek-r1:8b"
prompt = '''You are an AI assistant specialized in extracting structured information from resumes. Given the following resume text, extract the education part in exactly this JSON format. Here's an example:

---
{
  "education": [
    {
      "degree": "Degree Name",
      "university": "University Name",
      "start Year": "Start Year"
      "End Year": "End Year"
      "grade": "Provided grade"
    }]
}
---

Instructions:
1. Maintain the exact JSON structure with correct nesting, this is a top priority.
2. Extract all available information while preserving accuracy.
4. Ensure all extracted fields are clear and concise.
5. The output should be the JSON code only and nothing else.

Now, extract the information from this resume:

---\n''' + pdf_text + '''\n ---'''
start = datetime.now()
response = ollama.chat(model = model, messages= [{'role':'user', 'content': prompt}],keep_alive="20m")
end = datetime.now()

ollamaResponse = response['message']['content']

print(ollamaResponse)
print(f"Execution time: {end - start}")


model = "phi4"
prompt = '''You are an AI assistant specialized in extracting structured information from resumes. Given the following resume text, extract key details in exactly this JSON format:

---
{
  "contactInformation": {
    "name": "Full Name",
    "phone": "Phone Number",
    "email": "Email Address",
    "location": "City, Country"
  },
  "education": [
    {
      "degree": "Degree Name",
      "university": "University Name",
      "start Year": "Start Year"
      "End Year": "End Year"
      "grade": "provided grade"
    }
  ],
  "workExperience": [
    {
      "title": "Job Title",
      "company": "Company Name",
      "start date": "Month/Year"
      "end date": "Month/Year"
      "end date"
    }
  ],
  "skills": [
    "Skill 1",
    "Skill 2",
    "Skill 3"
  ],
  "languages": [
    "Language 1",
    "Language 2"
  ]
}
---

Instructions:
1. Maintain the exact JSON structure with correct nesting, this is a top priority.
2. Extract all available information while preserving accuracy.
3. Use standardized formats for dates (`Month Year - Month Year`) and location (`City, Country`).
4. Ensure all extracted fields are clear and concise.
5. In the "languages" section, write only the language name.
6. In the "skills" section, write individual skills separated by commas.

Now, extract the information from this resume:

---\n''' + pdf_text + '''\n ---'''
start = datetime.now()
response = ollama.chat(model = model, messages= [{'role':'user', 'content': prompt}],keep_alive="20m")
end = datetime.now()

ollamaResponse = response['message']['content']

print(ollamaResponse)
print(f"Execution time: {end - start}")





prompt = '''You are an AI assistant specialized in extracting structured information from resumes. Given the following resume text, extract key details in exactly this JSON format. Here's an example:

{
  "contactInformation": {
    "name": "Full Name",
    "phone": "Phone Number",
    "email": "Email Address",
    "city": "City",
    "country": "Country"
  },
  "education": [
    {
      "degree": "Degree Name",
      "university": "University Name",
      "faculty": "Faculty Name",
      "start Year": "Start Year",
      "End Year": "End Year",
      "grade": "provided grade"
    }
  ],
  "workExperience": [
    {
      "title": "Job Title",
      "company": "Company Name",
      "start date": "YYYY-MM-DD",
      "end date": "YYYY-MM-DD"
    }
  ],
  "skills": [
    "Skill 1",
    "Skill 2",
    "Skill 3"
  ],
  "spoken languages": [
    "Language 1",
    "Language 2"
  ]
}

### **Instructions (Follow Strictly):**
1. **Maintain the exact JSON structure with correct nesting**. This is a **top priority**.  
2. **Extract all available information while ensuring accuracy**.  
3. **Format Dates**: 
    -Use `YYYY-MM-DD` format for both start and end dates in `workExperience` (e.g., `"2022-01-01"`).
    -If no day is found, extract the date in the format `YYYY-MM` in `workExperince` (e.g., `"2022-01"`).
    -If no month is found, extract the date in the format `YYYY` in `workExperince` (e.g., `"2022"`).
    -If the word `present` is written in the date return a string of the word "present".
    -If no date is found return an empty string.
4. **Format City**: Use the city name in the "city" field. Write the city name only (e.g., "San Francisco").
5. **Format Country**: Use the country name in the "country" field. Write the country name only (e.g., "USA").
6. **Spoken Languages**: Include **only** the language names (e.g., `"English"`, `"Spanish"`).  
7. **Skills**: 
    - Extract and list **all relevant skills**. Check for skills **in any section of the CV**, not just in a dedicated "Skills" section.
    -Ensure each individual skill is added as a separate element in the "skills" list.
8. **Grade (GPA Handling)**:
   - If a GPA is provided, extract **only the numeric GPA** (e.g., `"3.48"` from `"GPA: 3.48 of 4.00"`).  
   - Do **not** include text like `"of 4.00"` or `"%"`.  
   - If the GPA is not explicitly available, check for a percentage (e.g., `"85%" → `"85"`).  
   - If no grade is found, leave it **blank**.  
9. **Abbreviations**: Expand common abbreviations into their full form. Example:
   - `"ML"` → `"Machine Learning"`
   - `"NLP"` → `"Natural Language Processing"`
   - `"AI"` → `"Artificial Intelligence"`
10. **If a field is missing, leave it blank** instead of guessing.  
11. **Output only valid JSON**:  
   - **Do not include any introductory/explanatory text.**  
   - **Do not print `json` or any formatting hints before the JSON output.**
12. **Phone Numbers**: If multiple phone numbers are found, include only the most relevant one (e.g., the primary number mentioned under contact details or the first valid number found). Ignore duplicates or secondary numbers.
'''

client = Groq(

    api_key= "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",

)

conversation =[
    {
        "role":"system",
        "content": prompt
    },
    {
        "role":"user",
        "content": f"Extract structured information from this resume:\n\n{pdf_text}"
    }
]

CV_query = client.chat.completions.create(

    messages=conversation,

    model="llama-3.3-70b-versatile",

)


print(CV_query.choices[0].message.content)


job_desc = '''Job Description

    Tax calculations and preparation of tax forms
    Revenue Analyst
    Cashing of company checks
    Dealing with any third party
    Company licenses work with government agencies
    Administrative Coordinator
    Presence and absence of employees
    Overtime worksheets
    cost center

Job Requirements

    B.Sc. in Accounting
    Proven experience as an accountant or in a similar financial role
    Strong knowledge of tax regulations and experience preparing tax forms
    Familiarity with revenue analysis and cost center management
    Excellent attention to detail and organizational skills
    Strong analytical and problem-solving skills
    Ability to manage multiple tasks and prioritize effectively in a fast-paced environment
    Strong communication skills for interacting with third parties, employees, and government agencies
    Knowledge of payroll processes and overtime calculations
    Ability to maintain confidentiality and handle sensitive financial data responsibly
    Experience with administrative coordination and basic office management is an advantage


We are looking for talented, highly motivated individuals who believe in excellence and are committed to high performance. If you are interested in becoming a part of our professional organization we’d love to hear from you. Check out our list of vacancies and send your resume to mts-hr@mts-mea.com
'''

prompt = '''You are an AI assistant that extracts required skills from job descriptions.  

Given the following job description, extract only the relevant **technical and domain-specific skills** explicitly mentioned in the text, including specific software, tools, general skills, technologies, and platforms.  

Return the result in **exactly** the following JSON format:  

{
  "skills": [
    "Skill 1",
    "Skill 2",
    "Skill 3"
  ]
}

### **Rules to Follow (Strictly Enforce These):**
1. **Only include explicitly mentioned skills** (e.g., `"Python"`, `"Machine Learning"`, `"SQL"`).  
2. **Do not include job titles** (e.g., `"Software Engineer"`) or generic experience requirements (e.g., `"experience in AI"`).  
3. **Check all qualification sections carefully** to ensure all technical skills are captured.  
4. **Follow the exact JSON structure**—do not add extra fields, explanations, or formatting.  
5. **Output only valid JSON**:  
   - **Do not include any introductory/explanatory text.**  
   - **Do not print `json` or any formatting hints before the JSON output.**  
6. **Expand abbreviations where applicable**, ensuring clarity. Example:  
   - `"ML"` → `"Machine Learning"`  
   - `"NLP"` → `"Natural Language Processing"`  
   - `"DL"` → `"Deep Learning"`  
7. **If no skills are found, return an empty list (`"skills": []`) instead of making assumptions.**  
'''
#Job Description: \n''' + job_desc


job_conversation = [
    {
        "role":"system",
        "content": prompt
    },
    {
        "role":"user",
        "content": f"Extract structured information from this job description:\n\n{job_desc}"
    }
]
Job_query = client.chat.completions.create(

    messages=job_conversation,

    model="llama-3.3-70b-versatile",

)

print(Job_query.choices[0].message.content)


CV_response = CV_query.choices[0].message.content
Job_response = Job_query.choices[0].message.content

CV = re.search(r'```\s*(?:json)?\s*(.*?)```', CV_response, re.DOTALL)
#Job = re.search(r'```(.*?)```', Job_response, re.DOTALL)

if CV:
    extracted_CV = CV.group(1).strip()
# if Job:
#     extracted_Job = Job.group(1).strip()

extracted_Job = Job_response.strip()   

print("########################### CV ###########################")
print(extracted_CV)
print("########################### JOB ###########################")
print(extracted_Job)


CV_dict = json.loads(extracted_CV)  # Convert to Python dictionary
Job_dict = json.loads(extracted_Job)  # Convert to Python dictionary
print(CV_dict)
print(Job_dict)





model = SentenceTransformer('sentence-transformers/all-mpnet-base-v2')


workExperience = [
    {
      "company_name": "Click ITS company",
      "start_date": "Jan 24",
      "end_date": "Mar 24",
      "description": '''Data engineer intern''',
      "job_title": "Data engineer intern",  
    },
    {
      "company_name": "Orange Telecommunication Company",
      "start_date": "Nov 22",
      "end_date": "Jan 23",
      "description": '''Call center agent at Orange, help customers and handle angry customers''',
      "job_title": "Call center agent",
    },
    {
      "company_name": "ACM",
      "start_date": "Aug 18",
      "end_date": "Aug 22",
      "description": '''Member at ACM, a community which solve problems through programming''',
      "job_title": "Member",
    },
    {
      "company_name": "Scout group",
      "start_date": "Aug 12",
      "end_date": "Aug 22",
      "description": '''Leader at the scout group''',
      "job_title": "Leader",
    }
  ]

education = [
    {
      "degree": "MEng in AI and data science",
      "school_name": "Ottawa University",
      "field": "Faculty of Engineering",
      "grade": ""
    },
    {
      "degree": "Bachelor's degree in bioinformatics",
      "school_name": "Assiut University",
      "field": "Faculty of Computers and Information",
      "grade": "3.48"
    }
  ]


weight_profile = '''You are an expert in analyzing candidate CVs to assess skill proficiency. Given a CV, a list of extracted skills, Education as an array of dictionaries, and
Experiences as an array of dictionaries, evaluate the candidate’s experience in each skill and assign a rating from 1 (poor) to 5 (excellent) based on:
- Years of experience
- Projects or work history related to the skill
- Certifications, courses, or achievements

Return the result in the following **JSON format**:

{
  "skills": {
    "Skill 1": rate,
    "Skill 2": rate
  }
}

### **Rules (Strictly Follow These)**:
    1. If the candidate has **no mention** of experience for a skill, rate it **1**.
    2. **If the skill is only briefly mentioned** or appears in a general context (e.g., in a skills list but without supporting experience), assign a rating of **2 or 3**.  
    3. **If the candidate has moderate experience (some projects or relevant work history),** assign a rating of **4**.  
    4. **If the candidate has strong experience (multiple projects, work history, or certifications),** assign a rating of **5**.  
    5. **Strict JSON Output**:  
       - **No additional text, explanations, or formatting hints** (e.g., do NOT include `"json"` at the beginning).  
    6. **Use only integer ratings (1-5)**, no decimals or text descriptions.  
    7. **Weigh Certifications & Courses**: If a certification or course is mentioned for a skill but no work experience, rate it **at least 3**.  
    8. **Weigh Years of Experience**: If a specific number of years is mentioned (e.g., `"5 years of Python"`), increase the rating accordingly.
    9. Use experience and education from both the CV and the extracted lists.
    10. If the same entry exists in both, prefer the CV version (match by meaning, not exact text).
    11. DO NOT assume missing skills. Only rate those explicitly mentioned.

**Example Input:**
---
CV:
"Assiut University, Faculty of Computers and Information, Egypt Aug 18 – Aug 22
Bachelor's degree in bioinformatics.Overall Grade: 3.48 out of 4.0.
I have worked as a Data Scientist at Microsoft for 5 years, primarily using Python and TensorFlow for Machine Learning. I also have experience with SQL databases and AWS cloud services. Recently, I completed a certification in NLP."

Extracted Skills:
["Python", "Machine Learning", "SQL", "AWS", "NLP", "Deep Learning"]

Extracted Experience:
[{"company_name": "Microsoft",
"start_date": "2020",
"end_date": "2025",
"description": "I have been working as a Data Scientist in Microsoft for 5 years, primarily using Python and TensorFlow for Machine Learning.",
"job_title": "Data Scientist"}]

Extracted Education:
[{"school_name": "Assiut University",
"field": "Faculty of Computers and Information",
"degree": "Bachelor's degree in bioinformatics",
"grade": "3.48"}]

**Expected Output:**
---
{
  "skills": {
    "Python": 5,
    "Machine Learning": 5,
    "SQL": 4,
    "AWS": 4,
    "NLP": 5,
    "Deep Learning": 2
  }
}
'''
profile_conversation = [
    {
        "role":"system",
        "content": weight_profile
    },
    {
        "role":"user",
        "content":f"Now, analyze the following CV and extracted skills, experience, and education then return the JSON response.\nCV:\n{pdf_text}\n\nExtracted Skills:\n{CV_dict["skills"]}\n\nExtracted Experience:\n{workExperience}\n\nExtracted Education:\n{education}"
    }
]
profile_weight_query = client.chat.completions.create(

    messages=profile_conversation,

    model="llama-3.3-70b-versatile",

)

print(profile_weight_query.choices[0].message.content)


weight_cv = '''You are an expert in analyzing candidate CVs to assess skill proficiency. Given a CV and a list of extracted skills, evaluate the candidate’s experience in each skill and assign a rating from 1 (poor) to 5 (excellent) based on:
- Years of experience
- Projects or work history related to the skill
- Certifications, courses, or achievements

Return the result in the following **JSON format**:

{
  "skills": {
    "Skill 1": rate,
    "Skill 2": rate
  }
}

### **Rules (Strictly Follow These)**:
1. If the candidate has **no mention** of experience for a skill, rate it **1**.
2. **If the skill is only briefly mentioned** or appears in a general context (e.g., in a skills list but without supporting experience), assign a rating of **2 or 3**.  
3. **If the candidate has moderate experience (some projects or relevant work history),** assign a rating of **4**.  
4. **If the candidate has strong experience (multiple projects, work history, or certifications),** assign a rating of **5**.  
5. **Strict JSON Output**:  
   - **No additional text, explanations, or formatting hints** (e.g., do NOT include `"json"` at the beginning).  
6. **Use only integer ratings (1-5)**, no decimals or text descriptions.  
7. **Weigh Certifications & Courses**: If a certification or course is mentioned for a skill but no work experience, rate it **at least 3**.  
8. **Weigh Years of Experience**: If a specific number of years is mentioned (e.g., `"5 years of Python"`), increase the rating accordingly.  


**Example Input:**
---
CV:
"I have been working as a Data Scientist for 5 years, primarily using Python and TensorFlow for Machine Learning. I also have experience with SQL databases and AWS cloud services. Recently, I completed a certification in NLP."

Extracted Skills:
["Python", "Machine Learning", "SQL", "AWS", "NLP", "Deep Learning"]

**Expected Output:**
---
{
  "skills": {
    "Python": 5,
    "Machine Learning": 5,
    "SQL": 4,
    "AWS": 4,
    "NLP": 5,
    "Deep Learning": 2
  }
}
'''

cv_weighting_conversation = [
    {
        "role": "system",
        "content": weight_cv
    },
    {
        "role": "user",
        "content": f"Analyze the following CV and extracted skills and return the JSON response.\n\nCV:\n{pdf_text}\n\nExtracted Skills:\n{CV_dict["skills"]}"
    }
]
CV_weight_query = client.chat.completions.create(

    messages=cv_weighting_conversation,

    model="llama-3.3-70b-versatile",

)

print(CV_weight_query.choices[0].message.content)


machine = {
    "Machine Learning":5.0,
    "Python":5.0,
    "TensorFlow":5.0,
    "PyTorch":5.0,
    "Scikit-learn":5.0,
    "Data Preprocessing":4.0,
    "Feature Engineering":4.0,
    "Model Evaluation":4.0,
    "Cloud Platforms":4.0,
    "Amazon Web Services":4.0,
    "Google Cloud Platform":4.0,
    "Microsoft Azure":4.0,
    "Artificial Intelligence":5.0
}

back = {
    "Node.js":5.0,
    "RESTful APIs":5.0,
    "MongoDB":5.0,
    "Express.js":5.0,
    "Git":5.0,
    "Asynchronous Programming":4.0,
    "Event-Driven Architecture":4.0,
    "Microservices Architecture":3.0,
    "Cloud Platforms":2.0,
    "Containerization":2.0,
    "Kubernetes":2.0,
    "AWS":2.0,
    "Azure":2.0
    }

analysis ={
    "SQL":5.0,
    "Python":5.0,
    "R":5.0,
    "Tableau":5.0,
    "Power BI":5.0,
    "Google Looker Studio":5.0,
    "Statistical Analysis":3.0,
    "Machine Learning":2.0,
    "AWS":1.0,
    "Google Cloud":1.0
}

accounting ={
    "Accounting":5.0,
    "Tax regulations":5.0,
    "Tax forms preparation":5.0,
    "Revenue analysis":5.0,
    "Cost center management":5.0,
    "Payroll processes":5.0,
    "Overtime calculations":5.0
}

skills_rating = {
    "Linux": 2,
    "SQL": 4,
    "Business Analysis": 4,
    "Enterprise Resource Planning (ERP)": 4,
    "Microsoft Access": 2,
    "Statistics": 2,
    "Microsoft Power BI": 4,
    "Microsoft Excel": 4,
    "PowerPivot": 2,
    "Microsoft Power Query": 2,
    "Data Engineering": 4,
    "Reporting Analysis": 4,
    "PostgreSQL": 3,
    "Python": 3,
    "Odoo ERP": 3,
    "Big Data": 3
  }


# CV_skills_embed = model.encode(CV_dict['skills'])
# Job_skills_embed = model.encode(Job_dict['skills'])

CV_skills_embed = {skill: model.encode(skill)for skill,weight in skills_rating.items()}
Job_skills_embed = {skill: model.encode(skill)for skill,weight in accounting.items()}


def weighted_embed_vec(skill_dict, embedding):
    total_weight = sum(skill_dict.values())
    weighted_sum = sum(embedding[skill] * weight for skill,weight in skill_dict.items())
    return weighted_sum/total_weight

weighted_job = weighted_embed_vec(accounting, Job_skills_embed)
weighted_CV = weighted_embed_vec(skills_rating, CV_skills_embed)
# CV_skills_embed = np.mean(model.encode(CV_dict['skills']), axis=0)
similarities = cosine_similarity([weighted_job], [weighted_CV])[0][0]
print(similarities)


embedding = model.encode(["Power BI", "C++"])
similarities = cosine_similarity([embedding[0]], [embedding[1]])[0]
print(similarities)








CVs_directory = "F:\\GPResources\\New CVs"
CVs_list = {}


def CVs_list_from_path(pdfs_path):  
    CVs_files = os.listdir(pdfs_path)
    for file_name in tqdm(CVs_files, "Processing CVs..."):
        file_path = os.path.join(pdfs_path,file_name)
        CV_txt = extract_text_from_pdf(file_path)
        CVs_list[f"{file_name}"] = CV_txt


CVs_list_from_path(CVs_directory)


CVs_list.clear()


sim = []
for i in CVs_list.keys():
    cv = CVs_list[i]  
    client = Groq(
    
        api_key= "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",
    
    )
    
    prompt = '''You are an AI assistant specialized in extracting structured information from resumes. Given the following resume text, extract key details in exactly this JSON format. Here's an example:
    
    {
      "contactInformation": {
        "name": "Full Name",
        "phone": "Phone Number",
        "email": "Email Address",
        "location": "City, Country"
      },
      "education": [
        {
          "degree": "Degree Name",
          "university": "University Name",
          "faculty": "Faculty Name",
          "start Year": "Start Year",
          "End Year": "End Year",
          "grade": "provided grade"
        }
      ],
      "workExperience": [
        {
          "title": "Job Title",
          "company": "Company Name",
          "start date": "Month Year",
          "end date": "Month Year"
        }
      ],
      "skills": [
        "Skill 1",
        "Skill 2",
        "Skill 3"
      ],
      "spoken languages": [
        "Language 1",
        "Language 2"
      ]
    }
    
    ### **Instructions (Follow Strictly):**
    1. **Maintain the exact JSON structure with correct nesting**. This is a **top priority**.  
    2. **Extract all available information while ensuring accuracy**.  
    3. **Format Dates**: Use `Month Year` format for both start and end dates (e.g., `"January 2022 - December 2023"`).  
    4. **Format Locations**: Use `City, Country` format (e.g., `"San Francisco, USA"`).  
    5. **Spoken Languages**: Include **only** the language names (e.g., `"English"`, `"Spanish"`).  
    6. **Skills**: 
        -Extract and list **all relevant skills**. Check for skills **in any section of the CV**, not just in a dedicated "Skills" section.
        -Ensure each individual skill is added as a separate element in the "skills" list.
    7. **Grade (GPA Handling)**:
       - If a GPA is provided, extract **only the numeric GPA** (e.g., `"3.48"` from `"GPA: 3.48 of 4.00"`).  
       - Do **not** include text like `"of 4.00"` or `"%"`.  
       - If the GPA is not explicitly available, check for a percentage (e.g., `"85%" → `"85"`).  
       - If no grade is found, leave it **blank**.  
    8. **Abbreviations**: Expand common abbreviations into their full form. Example:
       - `"ML"` → `"Machine Learning"`
       - `"NLP"` → `"Natural Language Processing"`
    9. **If a field is missing, leave it blank** instead of guessing.  
    10. **Output only valid JSON**:  
       - **Do not include any introductory/explanatory text.**  
       - **Do not print `json` or any formatting hints before the JSON output.**
    11. **Phone Numbers**: If multiple phone numbers are found, include only the most relevant one (e.g., the primary number mentioned under contact details or the first valid number found). Ignore duplicates or secondary numbers.
    '''

    CV_query = None
    try:
        conversation =[
            {
                "role":"system",
                "content": prompt
            },
            {
                "role":"user",
                "content": f"Extract structured information from this resume:\n\n{cv}"
            }
        ]
        
        CV_query = client.chat.completions.create(
        
            messages=conversation,
        
            model="llama-3.3-70b-versatile",
        
        )
        print("CV_query successful")
        time.sleep(60)
    except:
        print("CV_query fail, retrying...")
        time.sleep(120)
        conversation =[
            {
                "role":"system",
                "content": prompt
            },
            {
                "role":"user",
                "content": f"Extract structured information from this resume:\n\n{cv}"
            }
        ]
        client = Groq(
        
            api_key= "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",
        
        )
        CV_query = client.chat.completions.create(
        
            messages=conversation,
        
            model="llama-3.3-70b-versatile",
        
        )
    cv_response = CV_query.choices[0].message.content
    match = re.search(r'```\s*(?:json)?\s*(.*?)```', cv_response, re.DOTALL)
    cv_text = match.group(1).strip() if match else cv_response

    CV_dict = json.loads(cv_text)


    weight_profile = '''You are an expert in analyzing candidate CVs to assess skill proficiency. Given a CV, a list of extracted skills, Education as an array of dictionaries, and
    Experiences as an array of dictionaries, evaluate the candidate’s experience in each skill and assign a rating from 1 (poor) to 5 (excellent) based on:
    - Years of experience
    - Projects or work history related to the skill
    - Certifications, courses, or achievements
    
    Return the result in the following **JSON format**:
    
    {
      "skills": {
        "Skill 1": rate,
        "Skill 2": rate
      }
    }
    
    ### **Rules (Strictly Follow These)**:
        1. If the candidate has **no mention** of experience for a skill, rate it **1**.
        2. **If the skill is only briefly mentioned** or appears in a general context (e.g., in a skills list but without supporting experience), assign a rating of **2 or 3**.  
        3. **If the candidate has moderate experience (some projects or relevant work history),** assign a rating of **4**.  
        4. **If the candidate has strong experience (multiple projects, work history, or certifications),** assign a rating of **5**.  
        5. **Strict JSON Output**:  
           - **No additional text, explanations, or formatting hints** (e.g., do NOT include `"json"` at the beginning).  
        6. **Use only integer ratings (1-5)**, no decimals or text descriptions.  
        7. **Weigh Certifications & Courses**: If a certification or course is mentioned for a skill but no work experience, rate it **at least 3**.  
        8. **Weigh Years of Experience**: If a specific number of years is mentioned (e.g., `"5 years of Python"`), increase the rating accordingly.
        9. Use experience and education from both the CV and the extracted lists.
        10. If the same entry exists in both, prefer the CV version (match by meaning, not exact text).
        11. DO NOT assume missing skills. Only rate those explicitly mentioned.
    
    **Example Input:**
    ---
    CV:
    "Assiut University, Faculty of Computers and Information, Egypt Aug 18 – Aug 22
    Bachelor's degree in bioinformatics.Overall Grade: 3.48 out of 4.0.
    I have worked as a Data Scientist at Microsoft for 5 years, primarily using Python and TensorFlow for Machine Learning. I also have experience with SQL databases and AWS cloud services. Recently, I completed a certification in NLP."
    
    Extracted Skills:
    ["Python", "Machine Learning", "SQL", "AWS", "NLP", "Deep Learning"]
    
    Extracted Experience:
    [{"company_name": "Microsoft",
    "start_date": "2020",
    "end_date": "2025",
    "description": "I have been working as a Data Scientist in Microsoft for 5 years, primarily using Python and TensorFlow for Machine Learning.",
    "job_title": "Data Scientist"}]
    
    Extracted Education:
    [{"school_name": "Assiut University",
    "field": "Faculty of Computers and Information",
    "degree": "Bachelor's degree in bioinformatics",
    "grade": "3.48"}]
    
    **Expected Output:**
    ---
    {
      "skills": {
        "Python": 5,
        "Machine Learning": 5,
        "SQL": 4,
        "AWS": 4,
        "NLP": 5,
        "Deep Learning": 2
      }
    }
    '''
    profile_weight_query = None
    try:
        profile_conversation = [
                {
                    "role":"system",
                    "content": weight_profile
                },
                {
                    "role":"user",
                    "content":f"Now, analyze the following CV and extracted skills, experience, and education then return the JSON response.\nCV:\n{cv}\n\nExtracted Skills:\n{CV_dict["skills"]}\n\nExtracted Experience:\n{workExperience}\n\nExtracted Education:\n{education}"
                }
            ]
        client = Groq(
        
            api_key= "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",
        
        )
        profile_weight_query = client.chat.completions.create(
            
                messages=profile_conversation,
            
                model="llama-3.3-70b-versatile",
            
            )
        print("profile_weight_query successful")
        time.sleep(60)
    except:
        print("profile_weight_query fail, retrying...")
        time.sleep(120)
        profile_conversation = [
                {
                    "role":"system",
                    "content": weight_profile
                },
                {
                    "role":"user",
                    "content":f"Now, analyze the following CV and extracted skills, experience, and education then return the JSON response.\nCV:\n{cv}\n\nExtracted Skills:\n{CV_dict["skills"]}\n\nExtracted Experience:\n{CV_dict["workExperience"]}\n\nExtracted Education:\n{CV_dict["education"]}"
                }
            ]
        client = Groq(
        
            api_key= "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",
        
        )
        profile_weight_query = client.chat.completions.create(
            
                messages=profile_conversation,
            
                model="llama-3.3-70b-versatile",
            
            )
    profile_weight_query_response = profile_weight_query.choices[0].message.content
    print(profile_weight_query_response)
    match = re.search(r'```\s*(?:json)?\s*(.*?)```', profile_weight_query_response, re.DOTALL)
    profile_weight_query_text = match.group(1).strip() if match else profile_weight_query_response
    weighted_profile = json.loads(profile_weight_query_text)
    print(weighted_profile)
    CV_skills_embed = {skill: model.encode(skill)for skill in CV_dict['skills']}
    Job_skills_embed = {skill: model.encode(skill)for skill,weight in accounting.items()}
    
    
    def weighted_embed_vec(skill_dict, embedding,digit):
        if digit:
            total_weight = sum(skill_dict['skills'].values())
            weighted_sum = sum(embedding[skill] * weight for skill,weight in skill_dict['skills'].items())
        else:
            total_weight = sum(skill_dict.values())
            weighted_sum = sum(embedding[skill] * weight for skill,weight in skill_dict.items())
        return weighted_sum/total_weight
    
    weighted_job = weighted_embed_vec(accounting, Job_skills_embed,0)
    weighted_CV = weighted_embed_vec(weighted_profile, CV_skills_embed,1)
    similarities = sim.append(cosine_similarity([weighted_job], [weighted_CV])[0][0])
    print(i)


sim.index(sorted_list[-2])


sim[25]


sorted_list = sorted(sim)
sorted_list[-2]


t = """
{
  "contactInformation": {
    "name": "Sandy Adel Latef",
    "phone": "+201226267470",
    "email": "sandyadel877047@gmail.com",
    "location": "Ottawa, Canada"
  },
  "education": [
    {
      "degree": "MEng in AI and data science",
      "university": "Ottawa University",
      "faculty": "Faculty of Engineering",
      "start Year": "February 2023",
      "End Year": "January 2024",
      "grade": ""
    },
    {
      "degree": "Bachelor's degree in bioinformatics",
      "university": "Assiut University",
      "faculty": "Faculty of Computers and Information",
      "start Year": "August 2018",
      "End Year": "August 2022",
      "grade": "3.48"
    }
  ],
  "workExperience": [
    {
      "title": "Data engineer intern",
      "company": "Click ITS company",
      "start date": "January 2024",
      "end date": "March 2024"
    },
    {
      "title": "Call center agent",
      "company": "Orange Telecommunication Company",
      "start date": "November 2022",
      "end date": "January 2023"
    },
    {
      "title": "Member",
      "company": "ACM",
      "start date": "August 2018",
      "end date": "August 2022"
    },
    {
      "title": "Leader",
      "company": "Scout group",
      "start date": "August 2012",
      "end date": "August 2022"
    }
  ],
  "skills": [
    "Python",
    "SQL",
    "Data Structure",
    "Relational DB",
    "Problem solving",
    "Data Analysis",
    "Artificial Intelligence",
    "Machine Learning",
    "Deep Learning",
    "Natural Language Processing",
    "Computer Vision",
    "Statistics",
    "Time Series",
    "Git",
    "GitHub",
    "Tableau",
    "Dataiku",
    "HPE Data fabric",
    "C++",
    "Java",
    "C#"
  ],
  "spoken languages": [
    "Arabic",
    "English"
  ]
}"""
f = re.search(r'```\s*(?:json)?\s*(.*?)```', t, re.DOTALL).group(1).strip()
print(f)



